{
 "cells": [
  {
   "cell_type": "code",
   "execution_count": 1,
   "metadata": {},
   "outputs": [
    {
     "name": "stdout",
     "output_type": "stream",
     "text": [
      "WARNING:tensorflow:From c:\\Users\\wolle\\AppData\\Local\\Programs\\Python\\Python311\\Lib\\site-packages\\tf_keras\\src\\losses.py:2976: The name tf.losses.sparse_softmax_cross_entropy is deprecated. Please use tf.compat.v1.losses.sparse_softmax_cross_entropy instead.\n",
      "\n"
     ]
    }
   ],
   "source": [
    "import numpy as np\n",
    "import tensorflow as tf\n",
    "from transformers import BertTokenizerFast , TFBertModel\n",
    "\n",
    "\n",
    "class SpamClassifier(tf.keras.Model):\n",
    "    def __init__(self, **kwargs):\n",
    "        super(SpamClassifier, self).__init__(**kwargs)\n",
    "        self.bert = TFBertModel.from_pretrained('bert-base-uncased')\n",
    "        self.dense = tf.keras.layers.Dense(1, activation='sigmoid')\n",
    "\n",
    "    def call(self, inputs):\n",
    "        bert_output = self.bert(input_ids=inputs['input_ids'], \n",
    "                                attention_mask=inputs['attention_mask'], \n",
    "                                token_type_ids=inputs['token_type_ids'])[1]\n",
    "        return self.dense(bert_output)\n",
    "\n",
    "\n",
    "with open('Sentiment_analysis.json', 'r') as json_file:\n",
    "    model_json = json_file.read()"
   ]
  },
  {
   "cell_type": "code",
   "execution_count": 2,
   "metadata": {},
   "outputs": [
    {
     "name": "stdout",
     "output_type": "stream",
     "text": [
      "WARNING:tensorflow:From c:\\Users\\wolle\\AppData\\Local\\Programs\\Python\\Python311\\Lib\\site-packages\\tf_keras\\src\\backend.py:873: The name tf.get_default_graph is deprecated. Please use tf.compat.v1.get_default_graph instead.\n",
      "\n"
     ]
    },
    {
     "name": "stderr",
     "output_type": "stream",
     "text": [
      "Some weights of the PyTorch model were not used when initializing the TF 2.0 model TFBertModel: ['cls.predictions.transform.dense.bias', 'cls.predictions.transform.LayerNorm.bias', 'cls.seq_relationship.bias', 'cls.predictions.transform.LayerNorm.weight', 'cls.seq_relationship.weight', 'cls.predictions.transform.dense.weight', 'cls.predictions.bias']\n",
      "- This IS expected if you are initializing TFBertModel from a PyTorch model trained on another task or with another architecture (e.g. initializing a TFBertForSequenceClassification model from a BertForPreTraining model).\n",
      "- This IS NOT expected if you are initializing TFBertModel from a PyTorch model that you expect to be exactly identical (e.g. initializing a TFBertForSequenceClassification model from a BertForSequenceClassification model).\n",
      "All the weights of TFBertModel were initialized from the PyTorch model.\n",
      "If your task is similar to the task the model of the checkpoint was trained on, you can already use TFBertModel for predictions without further training.\n"
     ]
    }
   ],
   "source": [
    "model = tf.keras.models.model_from_json(model_json, custom_objects={'SpamClassifier': SpamClassifier})\n",
    "\n",
    "\n",
    "dummy_inputs = {\n",
    "    'input_ids': tf.zeros((1, 128), dtype=tf.int32),\n",
    "    'attention_mask': tf.zeros((1, 128), dtype=tf.int32),\n",
    "    'token_type_ids': tf.zeros((1, 128), dtype=tf.int32)\n",
    "}\n",
    "model(dummy_inputs)\n",
    "\n",
    "\n",
    "model.load_weights('Sentiment_analysis_weights.h5')\n",
    "\n",
    "\n",
    "tokenizer = BertTokenizerFast.from_pretrained('bert-base-uncased')\n",
    "\n",
    "\n",
    "new_data = [\"Ok lar... Joking wif u oni...\", \"This is a negative review.\"]\n",
    "\n",
    "\n",
    "encoded_inputs = tokenizer(new_data, padding=True, truncation=True, return_tensors='tf', max_length=128)\n",
    "\n",
    "\n",
    "inputs = {\n",
    "    'input_ids': encoded_inputs['input_ids'],\n",
    "    'attention_mask': encoded_inputs['attention_mask'],\n",
    "    'token_type_ids': encoded_inputs.get('token_type_ids', tf.zeros_like(encoded_inputs['input_ids']))\n",
    "}"
   ]
  },
  {
   "cell_type": "code",
   "execution_count": 3,
   "metadata": {},
   "outputs": [
    {
     "name": "stdout",
     "output_type": "stream",
     "text": [
      "Text: Ok lar... Joking wif u oni...\n",
      "Probability: 0.5006\n",
      "Predicted Label: ham\n",
      "\n",
      "\n",
      "Text: This is a negative review.\n",
      "Probability: 0.5041\n",
      "Predicted Label: ham\n",
      "\n",
      "\n"
     ]
    }
   ],
   "source": [
    "predictions = model(inputs)\n",
    "predicted_probs = tf.nn.sigmoid(predictions).numpy()  # Convert logits to probabilities\n",
    "predicted_labels = (predicted_probs > 0.6).astype(int)  # Convert probabilities to binary labels\n",
    "\n",
    "\n",
    "for text, prob, label in zip(new_data, predicted_probs, predicted_labels):\n",
    "    print(f\"Text: {text}\")\n",
    "    print(f\"Probability: {prob[0]:.4f}\")\n",
    "    print(f\"Predicted Label: {'spam' if label == 1 else 'ham'}\")\n",
    "    print()\n",
    "    print()"
   ]
  }
 ],
 "metadata": {
  "kernelspec": {
   "display_name": "Python 3",
   "language": "python",
   "name": "python3"
  },
  "language_info": {
   "codemirror_mode": {
    "name": "ipython",
    "version": 3
   },
   "file_extension": ".py",
   "mimetype": "text/x-python",
   "name": "python",
   "nbconvert_exporter": "python",
   "pygments_lexer": "ipython3",
   "version": "3.11.4"
  }
 },
 "nbformat": 4,
 "nbformat_minor": 2
}
